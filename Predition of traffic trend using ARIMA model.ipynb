{
  "cells": [
    {
      "cell_type": "code",
      "execution_count": null,
      "metadata": {
        "id": "wP2jq-xN3Xpa"
      },
      "outputs": [],
      "source": [
        "!pip install sktime\n",
        "!pip install pmdarima"
      ]
    },
    {
      "cell_type": "code",
      "execution_count": null,
      "metadata": {
        "id": "NG-tF_ur3Abv"
      },
      "outputs": [],
      "source": [
        "from pmdarima import auto_arima\n",
        "import numpy as np\n",
        "import pandas as pd\n",
        "import matplotlib.pyplot as plt\n",
        "from sklearn.metrics import mean_absolute_error"
      ]
    },
    {
      "cell_type": "code",
      "execution_count": null,
      "metadata": {
        "colab": {
          "base_uri": "https://localhost:8080/"
        },
        "id": "TfhhABb7Zx-C",
        "outputId": "9cd043dd-87e3-4c86-d588-d26e0fe9b4b7"
      },
      "outputs": [
        {
          "name": "stdout",
          "output_type": "stream",
          "text": [
            "Mounted at Drive\n"
          ]
        }
      ],
      "source": [
        "from google.colab import drive\n",
        "drive.mount(\"Drive\")"
      ]
    },
    {
      "cell_type": "code",
      "execution_count": null,
      "metadata": {
        "colab": {
          "base_uri": "https://localhost:8080/",
          "height": 297
        },
        "id": "ZeepFK4c3QMM",
        "outputId": "c276ade9-080e-41da-b1b6-95d1fd081015"
      },
      "outputs": [
        {
          "name": "stdout",
          "output_type": "stream",
          "text": [
            "(52116, 327)\n"
          ]
        },
        {
          "data": {
            "text/html": [
              "\n",
              "  <div id=\"df-c88eef38-ed65-409d-a49f-cafdcd95c4f0\">\n",
              "    <div class=\"colab-df-container\">\n",
              "      <div>\n",
              "<style scoped>\n",
              "    .dataframe tbody tr th:only-of-type {\n",
              "        vertical-align: middle;\n",
              "    }\n",
              "\n",
              "    .dataframe tbody tr th {\n",
              "        vertical-align: top;\n",
              "    }\n",
              "\n",
              "    .dataframe thead th {\n",
              "        text-align: right;\n",
              "    }\n",
              "</style>\n",
              "<table border=\"1\" class=\"dataframe\">\n",
              "  <thead>\n",
              "    <tr style=\"text-align: right;\">\n",
              "      <th></th>\n",
              "      <th>400001</th>\n",
              "      <th>400017</th>\n",
              "      <th>400030</th>\n",
              "      <th>400040</th>\n",
              "      <th>400045</th>\n",
              "      <th>400052</th>\n",
              "      <th>400057</th>\n",
              "      <th>400059</th>\n",
              "      <th>400065</th>\n",
              "      <th>400069</th>\n",
              "      <th>...</th>\n",
              "      <th>409528</th>\n",
              "      <th>409529</th>\n",
              "      <th>413026</th>\n",
              "      <th>413845</th>\n",
              "      <th>413877</th>\n",
              "      <th>413878</th>\n",
              "      <th>414284</th>\n",
              "      <th>414694</th>\n",
              "      <th>Day</th>\n",
              "      <th>Week</th>\n",
              "    </tr>\n",
              "  </thead>\n",
              "  <tbody>\n",
              "    <tr>\n",
              "      <th>0</th>\n",
              "      <td>71.4</td>\n",
              "      <td>67.8</td>\n",
              "      <td>70.5</td>\n",
              "      <td>67.4</td>\n",
              "      <td>68.8</td>\n",
              "      <td>66.6</td>\n",
              "      <td>66.8</td>\n",
              "      <td>68.0</td>\n",
              "      <td>66.8</td>\n",
              "      <td>69.0</td>\n",
              "      <td>...</td>\n",
              "      <td>68.8</td>\n",
              "      <td>68.0</td>\n",
              "      <td>69.2</td>\n",
              "      <td>68.9</td>\n",
              "      <td>70.4</td>\n",
              "      <td>68.8</td>\n",
              "      <td>71.1</td>\n",
              "      <td>68.0</td>\n",
              "      <td>0</td>\n",
              "      <td>1</td>\n",
              "    </tr>\n",
              "    <tr>\n",
              "      <th>1</th>\n",
              "      <td>71.6</td>\n",
              "      <td>67.5</td>\n",
              "      <td>70.6</td>\n",
              "      <td>67.5</td>\n",
              "      <td>68.7</td>\n",
              "      <td>66.6</td>\n",
              "      <td>66.8</td>\n",
              "      <td>67.8</td>\n",
              "      <td>66.5</td>\n",
              "      <td>68.2</td>\n",
              "      <td>...</td>\n",
              "      <td>68.4</td>\n",
              "      <td>67.6</td>\n",
              "      <td>70.4</td>\n",
              "      <td>68.8</td>\n",
              "      <td>70.1</td>\n",
              "      <td>68.4</td>\n",
              "      <td>70.8</td>\n",
              "      <td>67.4</td>\n",
              "      <td>1</td>\n",
              "      <td>1</td>\n",
              "    </tr>\n",
              "    <tr>\n",
              "      <th>2</th>\n",
              "      <td>71.6</td>\n",
              "      <td>67.6</td>\n",
              "      <td>70.2</td>\n",
              "      <td>67.4</td>\n",
              "      <td>68.7</td>\n",
              "      <td>66.1</td>\n",
              "      <td>66.8</td>\n",
              "      <td>67.8</td>\n",
              "      <td>66.2</td>\n",
              "      <td>67.8</td>\n",
              "      <td>...</td>\n",
              "      <td>68.4</td>\n",
              "      <td>67.5</td>\n",
              "      <td>70.2</td>\n",
              "      <td>68.3</td>\n",
              "      <td>69.8</td>\n",
              "      <td>68.4</td>\n",
              "      <td>70.5</td>\n",
              "      <td>67.9</td>\n",
              "      <td>2</td>\n",
              "      <td>1</td>\n",
              "    </tr>\n",
              "    <tr>\n",
              "      <th>3</th>\n",
              "      <td>71.1</td>\n",
              "      <td>67.5</td>\n",
              "      <td>70.3</td>\n",
              "      <td>68.0</td>\n",
              "      <td>68.5</td>\n",
              "      <td>66.7</td>\n",
              "      <td>66.6</td>\n",
              "      <td>67.7</td>\n",
              "      <td>65.9</td>\n",
              "      <td>67.8</td>\n",
              "      <td>...</td>\n",
              "      <td>68.5</td>\n",
              "      <td>67.5</td>\n",
              "      <td>70.4</td>\n",
              "      <td>68.7</td>\n",
              "      <td>70.2</td>\n",
              "      <td>68.4</td>\n",
              "      <td>70.8</td>\n",
              "      <td>67.6</td>\n",
              "      <td>3</td>\n",
              "      <td>1</td>\n",
              "    </tr>\n",
              "    <tr>\n",
              "      <th>4</th>\n",
              "      <td>71.7</td>\n",
              "      <td>67.8</td>\n",
              "      <td>70.2</td>\n",
              "      <td>68.1</td>\n",
              "      <td>68.4</td>\n",
              "      <td>66.9</td>\n",
              "      <td>66.1</td>\n",
              "      <td>67.7</td>\n",
              "      <td>66.1</td>\n",
              "      <td>67.8</td>\n",
              "      <td>...</td>\n",
              "      <td>68.5</td>\n",
              "      <td>67.4</td>\n",
              "      <td>69.6</td>\n",
              "      <td>69.1</td>\n",
              "      <td>70.0</td>\n",
              "      <td>68.4</td>\n",
              "      <td>71.0</td>\n",
              "      <td>67.9</td>\n",
              "      <td>4</td>\n",
              "      <td>1</td>\n",
              "    </tr>\n",
              "  </tbody>\n",
              "</table>\n",
              "<p>5 rows × 327 columns</p>\n",
              "</div>\n",
              "      <button class=\"colab-df-convert\" onclick=\"convertToInteractive('df-c88eef38-ed65-409d-a49f-cafdcd95c4f0')\"\n",
              "              title=\"Convert this dataframe to an interactive table.\"\n",
              "              style=\"display:none;\">\n",
              "        \n",
              "  <svg xmlns=\"http://www.w3.org/2000/svg\" height=\"24px\"viewBox=\"0 0 24 24\"\n",
              "       width=\"24px\">\n",
              "    <path d=\"M0 0h24v24H0V0z\" fill=\"none\"/>\n",
              "    <path d=\"M18.56 5.44l.94 2.06.94-2.06 2.06-.94-2.06-.94-.94-2.06-.94 2.06-2.06.94zm-11 1L8.5 8.5l.94-2.06 2.06-.94-2.06-.94L8.5 2.5l-.94 2.06-2.06.94zm10 10l.94 2.06.94-2.06 2.06-.94-2.06-.94-.94-2.06-.94 2.06-2.06.94z\"/><path d=\"M17.41 7.96l-1.37-1.37c-.4-.4-.92-.59-1.43-.59-.52 0-1.04.2-1.43.59L10.3 9.45l-7.72 7.72c-.78.78-.78 2.05 0 2.83L4 21.41c.39.39.9.59 1.41.59.51 0 1.02-.2 1.41-.59l7.78-7.78 2.81-2.81c.8-.78.8-2.07 0-2.86zM5.41 20L4 18.59l7.72-7.72 1.47 1.35L5.41 20z\"/>\n",
              "  </svg>\n",
              "      </button>\n",
              "      \n",
              "  <style>\n",
              "    .colab-df-container {\n",
              "      display:flex;\n",
              "      flex-wrap:wrap;\n",
              "      gap: 12px;\n",
              "    }\n",
              "\n",
              "    .colab-df-convert {\n",
              "      background-color: #E8F0FE;\n",
              "      border: none;\n",
              "      border-radius: 50%;\n",
              "      cursor: pointer;\n",
              "      display: none;\n",
              "      fill: #1967D2;\n",
              "      height: 32px;\n",
              "      padding: 0 0 0 0;\n",
              "      width: 32px;\n",
              "    }\n",
              "\n",
              "    .colab-df-convert:hover {\n",
              "      background-color: #E2EBFA;\n",
              "      box-shadow: 0px 1px 2px rgba(60, 64, 67, 0.3), 0px 1px 3px 1px rgba(60, 64, 67, 0.15);\n",
              "      fill: #174EA6;\n",
              "    }\n",
              "\n",
              "    [theme=dark] .colab-df-convert {\n",
              "      background-color: #3B4455;\n",
              "      fill: #D2E3FC;\n",
              "    }\n",
              "\n",
              "    [theme=dark] .colab-df-convert:hover {\n",
              "      background-color: #434B5C;\n",
              "      box-shadow: 0px 1px 3px 1px rgba(0, 0, 0, 0.15);\n",
              "      filter: drop-shadow(0px 1px 2px rgba(0, 0, 0, 0.3));\n",
              "      fill: #FFFFFF;\n",
              "    }\n",
              "  </style>\n",
              "\n",
              "      <script>\n",
              "        const buttonEl =\n",
              "          document.querySelector('#df-c88eef38-ed65-409d-a49f-cafdcd95c4f0 button.colab-df-convert');\n",
              "        buttonEl.style.display =\n",
              "          google.colab.kernel.accessAllowed ? 'block' : 'none';\n",
              "\n",
              "        async function convertToInteractive(key) {\n",
              "          const element = document.querySelector('#df-c88eef38-ed65-409d-a49f-cafdcd95c4f0');\n",
              "          const dataTable =\n",
              "            await google.colab.kernel.invokeFunction('convertToInteractive',\n",
              "                                                     [key], {});\n",
              "          if (!dataTable) return;\n",
              "\n",
              "          const docLinkHtml = 'Like what you see? Visit the ' +\n",
              "            '<a target=\"_blank\" href=https://colab.research.google.com/notebooks/data_table.ipynb>data table notebook</a>'\n",
              "            + ' to learn more about interactive tables.';\n",
              "          element.innerHTML = '';\n",
              "          dataTable['output_type'] = 'display_data';\n",
              "          await google.colab.output.renderOutput(dataTable, element);\n",
              "          const docLink = document.createElement('div');\n",
              "          docLink.innerHTML = docLinkHtml;\n",
              "          element.appendChild(docLink);\n",
              "        }\n",
              "      </script>\n",
              "    </div>\n",
              "  </div>\n",
              "  "
            ],
            "text/plain": [
              "   400001  400017  400030  400040  400045  400052  400057  400059  400065  \\\n",
              "0    71.4    67.8    70.5    67.4    68.8    66.6    66.8    68.0    66.8   \n",
              "1    71.6    67.5    70.6    67.5    68.7    66.6    66.8    67.8    66.5   \n",
              "2    71.6    67.6    70.2    67.4    68.7    66.1    66.8    67.8    66.2   \n",
              "3    71.1    67.5    70.3    68.0    68.5    66.7    66.6    67.7    65.9   \n",
              "4    71.7    67.8    70.2    68.1    68.4    66.9    66.1    67.7    66.1   \n",
              "\n",
              "   400069  ...  409528  409529  413026  413845  413877  413878  414284  \\\n",
              "0    69.0  ...    68.8    68.0    69.2    68.9    70.4    68.8    71.1   \n",
              "1    68.2  ...    68.4    67.6    70.4    68.8    70.1    68.4    70.8   \n",
              "2    67.8  ...    68.4    67.5    70.2    68.3    69.8    68.4    70.5   \n",
              "3    67.8  ...    68.5    67.5    70.4    68.7    70.2    68.4    70.8   \n",
              "4    67.8  ...    68.5    67.4    69.6    69.1    70.0    68.4    71.0   \n",
              "\n",
              "   414694  Day  Week  \n",
              "0    68.0    0     1  \n",
              "1    67.4    1     1  \n",
              "2    67.9    2     1  \n",
              "3    67.6    3     1  \n",
              "4    67.9    4     1  \n",
              "\n",
              "[5 rows x 327 columns]"
            ]
          },
          "execution_count": 4,
          "metadata": {},
          "output_type": "execute_result"
        }
      ],
      "source": [
        "data = pd.read_csv(\"/content/Drive/MyDrive/ColabNotebooks/projects/Python/Copy of filled zero with before speed with POS.csv\")\n",
        "print(data.shape)\n",
        "data.head()"
      ]
    },
    {
      "cell_type": "markdown",
      "metadata": {
        "id": "3ffZqms0AppI"
      },
      "source": [
        "### Prediction for first station"
      ]
    },
    {
      "cell_type": "code",
      "execution_count": null,
      "metadata": {
        "id": "VZi8jbRDMED1"
      },
      "outputs": [],
      "source": [
        "train_data = data.iloc[:-8640, 0]\n",
        "test_data = data.iloc[-8640:, 0]"
      ]
    },
    {
      "cell_type": "code",
      "execution_count": null,
      "metadata": {
        "colab": {
          "base_uri": "https://localhost:8080/",
          "height": 282
        },
        "id": "Qz29lEzIQrN2",
        "outputId": "69d27452-91b6-4166-9d0d-d6e316a49cb1"
      },
      "outputs": [
        {
          "data": {
            "text/plain": [
              "<matplotlib.legend.Legend at 0x7fd97dc792d0>"
            ]
          },
          "execution_count": 24,
          "metadata": {},
          "output_type": "execute_result"
        },
        {
          "data": {
            "image/png": "[encoded data removed]",
            "text/plain": [
              "<Figure size 432x288 with 1 Axes>"
            ]
          },
          "metadata": {
            "needs_background": "light"
          },
          "output_type": "display_data"
        }
      ],
      "source": [
        "train, = plt.plot(train_data)\n",
        "test, = plt.plot(test_data)\n",
        "plt.legend([train, test], ['Trian', 'Test'])"
      ]
    },
    {
      "cell_type": "code",
      "execution_count": null,
      "metadata": {
        "colab": {
          "base_uri": "https://localhost:8080/"
        },
        "id": "LKhqOlRw-Q8m",
        "outputId": "68e9d48f-45b2-4bfb-a205-c1e4e962b9ec"
      },
      "outputs": [
        {
          "name": "stdout",
          "output_type": "stream",
          "text": [
            "Performing stepwise search to minimize aic\n",
            " ARIMA(2,0,2)(0,0,0)[0] intercept   : AIC=157114.213, Time=25.52 sec\n",
            " ARIMA(0,0,0)(0,0,0)[0] intercept   : AIC=306139.608, Time=1.10 sec\n",
            " ARIMA(1,0,0)(0,0,0)[0] intercept   : AIC=160552.256, Time=2.89 sec\n",
            " ARIMA(0,0,1)(0,0,0)[0] intercept   : AIC=254881.368, Time=8.77 sec\n",
            " ARIMA(0,0,0)(0,0,0)[0]             : AIC=490390.434, Time=0.47 sec\n",
            " ARIMA(1,0,2)(0,0,0)[0] intercept   : AIC=157192.383, Time=24.04 sec\n",
            " ARIMA(2,0,1)(0,0,0)[0] intercept   : AIC=157117.677, Time=15.74 sec\n",
            " ARIMA(3,0,2)(0,0,0)[0] intercept   : AIC=157115.410, Time=32.46 sec\n",
            " ARIMA(2,0,3)(0,0,0)[0] intercept   : AIC=157112.562, Time=50.29 sec\n",
            " ARIMA(1,0,3)(0,0,0)[0] intercept   : AIC=157119.944, Time=29.56 sec\n",
            " ARIMA(3,0,3)(0,0,0)[0] intercept   : AIC=157097.256, Time=81.04 sec\n",
            " ARIMA(4,0,3)(0,0,0)[0] intercept   : AIC=157098.282, Time=77.13 sec\n",
            " ARIMA(3,0,4)(0,0,0)[0] intercept   : AIC=157093.579, Time=44.39 sec\n",
            " ARIMA(2,0,4)(0,0,0)[0] intercept   : AIC=157117.384, Time=21.55 sec\n",
            " ARIMA(4,0,4)(0,0,0)[0] intercept   : AIC=157096.424, Time=45.87 sec\n",
            " ARIMA(3,0,5)(0,0,0)[0] intercept   : AIC=157095.121, Time=60.84 sec\n",
            " ARIMA(2,0,5)(0,0,0)[0] intercept   : AIC=157106.072, Time=25.02 sec\n",
            " ARIMA(4,0,5)(0,0,0)[0] intercept   : AIC=157100.798, Time=52.29 sec\n",
            " ARIMA(3,0,4)(0,0,0)[0]             : AIC=157678.845, Time=28.43 sec\n",
            "\n",
            "Best model:  ARIMA(3,0,4)(0,0,0)[0] intercept\n",
            "Total fit time: 627.613 seconds\n",
            "MAE: 4.716681755283971\n"
          ]
        }
      ],
      "source": [
        "model = auto_arima(train_data, seasonal=True,\n",
        "                      start_p=2, start_q=2, max_order=7, \n",
        "                      test='adf',error_action='ignore',  \n",
        "                      suppress_warnings=True,\n",
        "                      stepwise=True, trace=True)\n",
        "\n",
        "preds = model.predict(len(test_data))\n",
        "print(f\"MAE: {mean_absolute_error(test_data.values, preds)}\")"
      ]
    },
    {
      "cell_type": "code",
      "execution_count": null,
      "metadata": {
        "colab": {
          "base_uri": "https://localhost:8080/"
        },
        "id": "1b8zKPX0-KtD",
        "outputId": "61f5717d-34e6-4a41-f305-529ffc5637af"
      },
      "outputs": [
        {
          "data": {
            "text/plain": [
              "4.716681755283971"
            ]
          },
          "execution_count": 26,
          "metadata": {},
          "output_type": "execute_result"
        }
      ],
      "source": [
        "preds = model.predict(len(test_data))\n",
        "mean_absolute_error(test_data.values, preds)"
      ]
    },
    {
      "cell_type": "markdown",
      "metadata": {
        "id": "1JAvWzMkBcLf"
      },
      "source": [
        "### Predict for second station"
      ]
    },
    {
      "cell_type": "code",
      "execution_count": null,
      "metadata": {
        "id": "OwUWZXwe7tcz"
      },
      "outputs": [],
      "source": [
        "train = data.iloc[:-8640, 1]\n",
        "test_data = data.iloc[-8640:, 1]"
      ]
    },
    {
      "cell_type": "code",
      "execution_count": null,
      "metadata": {
        "colab": {
          "base_uri": "https://localhost:8080/",
          "height": 282
        },
        "id": "jqMHZuP3UjQA",
        "outputId": "ad06221e-5131-4531-b5b2-5b21776112c5"
      },
      "outputs": [
        {
          "data": {
            "text/plain": [
              "<matplotlib.legend.Legend at 0x7fd97da37ed0>"
            ]
          },
          "execution_count": 28,
          "metadata": {},
          "output_type": "execute_result"
        },
        {
          "data": {
            "image/png": "[encoded data removed]",
            "text/plain": [
              "<Figure size 432x288 with 1 Axes>"
            ]
          },
          "metadata": {
            "needs_background": "light"
          },
          "output_type": "display_data"
        }
      ],
      "source": [
        "train, = plt.plot(train_data)\n",
        "test, = plt.plot(test_data)\n",
        "plt.legend([train, test], ['Trian', 'Test'])"
      ]
    },
    {
      "cell_type": "code",
      "execution_count": null,
      "metadata": {
        "colab": {
          "base_uri": "https://localhost:8080/"
        },
        "id": "jY4mQyj_A0q4",
        "outputId": "47c505cb-659d-484b-8e83-4bacbe958590"
      },
      "outputs": [
        {
          "name": "stdout",
          "output_type": "stream",
          "text": [
            "Performing stepwise search to minimize aic\n",
            " ARIMA(2,0,2)(0,0,0)[0] intercept   : AIC=157114.213, Time=24.98 sec\n",
            " ARIMA(0,0,0)(0,0,0)[0] intercept   : AIC=306139.608, Time=1.08 sec\n",
            " ARIMA(1,0,0)(0,0,0)[0] intercept   : AIC=160552.256, Time=2.44 sec\n",
            " ARIMA(0,0,1)(0,0,0)[0] intercept   : AIC=254881.368, Time=8.71 sec\n",
            " ARIMA(0,0,0)(0,0,0)[0]             : AIC=490390.434, Time=0.45 sec\n",
            " ARIMA(1,0,2)(0,0,0)[0] intercept   : AIC=157192.383, Time=23.15 sec\n",
            " ARIMA(2,0,1)(0,0,0)[0] intercept   : AIC=157117.677, Time=15.49 sec\n",
            " ARIMA(3,0,2)(0,0,0)[0] intercept   : AIC=157115.410, Time=32.01 sec\n",
            " ARIMA(2,0,3)(0,0,0)[0] intercept   : AIC=157112.562, Time=50.20 sec\n",
            " ARIMA(1,0,3)(0,0,0)[0] intercept   : AIC=157119.944, Time=26.70 sec\n",
            " ARIMA(3,0,3)(0,0,0)[0] intercept   : AIC=157097.256, Time=82.23 sec\n",
            " ARIMA(4,0,3)(0,0,0)[0] intercept   : AIC=157098.282, Time=76.89 sec\n",
            " ARIMA(3,0,4)(0,0,0)[0] intercept   : AIC=157093.579, Time=44.25 sec\n",
            " ARIMA(2,0,4)(0,0,0)[0] intercept   : AIC=157117.384, Time=19.40 sec\n",
            " ARIMA(4,0,4)(0,0,0)[0] intercept   : AIC=157096.424, Time=47.98 sec\n",
            " ARIMA(3,0,5)(0,0,0)[0] intercept   : AIC=157095.121, Time=60.95 sec\n",
            " ARIMA(2,0,5)(0,0,0)[0] intercept   : AIC=157106.072, Time=25.49 sec\n",
            " ARIMA(4,0,5)(0,0,0)[0] intercept   : AIC=157100.798, Time=52.61 sec\n",
            " ARIMA(3,0,4)(0,0,0)[0]             : AIC=157678.845, Time=27.76 sec\n",
            "\n",
            "Best model:  ARIMA(3,0,4)(0,0,0)[0] intercept\n",
            "Total fit time: 623.014 seconds\n",
            "MAE: 9.04339312809322\n"
          ]
        }
      ],
      "source": [
        "model = auto_arima(train_data, seasonal=True,\n",
        "                      start_p=2, start_q=2, max_order=7, \n",
        "                      test='adf',error_action='ignore',  \n",
        "                      suppress_warnings=True,\n",
        "                      stepwise=True, trace=True)\n",
        "\n",
        "preds = model.predict(len(test_data))\n",
        "print(f\"MAE: {mean_absolute_error(test_data.values, preds)}\")"
      ]
    },
    {
      "cell_type": "markdown",
      "metadata": {
        "id": "5kQUchEPBOvT"
      },
      "source": [
        "### Predict for third station"
      ]
    },
    {
      "cell_type": "code",
      "execution_count": null,
      "metadata": {
        "id": "-_57_CYoBXZh"
      },
      "outputs": [],
      "source": [
        "train_data = data.iloc[:-8640, 2]\n",
        "test_data = data.iloc[-8640:, 2]"
      ]
    },
    {
      "cell_type": "code",
      "execution_count": null,
      "metadata": {
        "colab": {
          "base_uri": "https://localhost:8080/",
          "height": 283
        },
        "id": "3GxbJPvxUn5Z",
        "outputId": "00d0e997-7c29-4c65-9869-53f5ebe8929f"
      },
      "outputs": [
        {
          "data": {
            "text/plain": [
              "<matplotlib.legend.Legend at 0x7fd97da29450>"
            ]
          },
          "execution_count": 31,
          "metadata": {},
          "output_type": "execute_result"
        },
        {
          "data": {
            "image/png": "[encoded data removed]",
            "text/plain": [
              "<Figure size 432x288 with 1 Axes>"
            ]
          },
          "metadata": {
            "needs_background": "light"
          },
          "output_type": "display_data"
        }
      ],
      "source": [
        "train, = plt.plot(train_data)\n",
        "test, = plt.plot(test_data)\n",
        "plt.legend([train, test], ['Trian', 'Test'])"
      ]
    },
    {
      "cell_type": "code",
      "execution_count": null,
      "metadata": {
        "colab": {
          "base_uri": "https://localhost:8080/"
        },
        "id": "vZvqFh9oBKRD",
        "outputId": "eeb9d7ac-4f66-4568-e6cd-ece0e7595446"
      },
      "outputs": [
        {
          "name": "stdout",
          "output_type": "stream",
          "text": [
            "Performing stepwise search to minimize aic\n",
            " ARIMA(2,0,2)(0,0,0)[0] intercept   : AIC=192561.427, Time=24.04 sec\n",
            " ARIMA(0,0,0)(0,0,0)[0] intercept   : AIC=337761.005, Time=1.08 sec\n",
            " ARIMA(1,0,0)(0,0,0)[0] intercept   : AIC=198429.814, Time=2.45 sec\n",
            " ARIMA(0,0,1)(0,0,0)[0] intercept   : AIC=286775.835, Time=11.96 sec\n",
            " ARIMA(0,0,0)(0,0,0)[0]             : AIC=479902.056, Time=0.47 sec\n",
            " ARIMA(1,0,2)(0,0,0)[0] intercept   : AIC=193004.585, Time=20.90 sec\n",
            " ARIMA(2,0,1)(0,0,0)[0] intercept   : AIC=192569.267, Time=16.53 sec\n",
            " ARIMA(3,0,2)(0,0,0)[0] intercept   : AIC=192559.085, Time=67.70 sec\n",
            " ARIMA(3,0,1)(0,0,0)[0] intercept   : AIC=192562.657, Time=34.77 sec\n",
            " ARIMA(4,0,2)(0,0,0)[0] intercept   : AIC=192566.354, Time=70.47 sec\n",
            " ARIMA(3,0,3)(0,0,0)[0] intercept   : AIC=192561.013, Time=22.00 sec\n",
            " ARIMA(2,0,3)(0,0,0)[0] intercept   : AIC=192558.907, Time=28.86 sec\n",
            " ARIMA(1,0,3)(0,0,0)[0] intercept   : AIC=192658.530, Time=25.64 sec\n",
            " ARIMA(2,0,4)(0,0,0)[0] intercept   : AIC=192561.172, Time=18.11 sec\n",
            " ARIMA(1,0,4)(0,0,0)[0] intercept   : AIC=192584.107, Time=31.02 sec\n",
            " ARIMA(3,0,4)(0,0,0)[0] intercept   : AIC=192562.881, Time=39.74 sec\n",
            " ARIMA(2,0,3)(0,0,0)[0]             : AIC=193567.155, Time=9.63 sec\n",
            "\n",
            "Best model:  ARIMA(2,0,3)(0,0,0)[0] intercept\n",
            "Total fit time: 425.522 seconds\n",
            "MAE: 7.496051510626763\n"
          ]
        }
      ],
      "source": [
        "model = auto_arima(train_data, seasonal=True,\n",
        "                      start_p=2, start_q=2, max_order=7, \n",
        "                      test='adf',error_action='ignore',  \n",
        "                      suppress_warnings=True,\n",
        "                      stepwise=True, trace=True)\n",
        "\n",
        "preds = model.predict(len(test_data))\n",
        "print(f\"MAE: {mean_absolute_error(test_data.values, preds)}\")"
      ]
    },
    {
      "cell_type": "code",
      "execution_count": null,
      "metadata": {
        "colab": {
          "base_uri": "https://localhost:8080/",
          "height": 286
        },
        "id": "dDqljMwIFILB",
        "outputId": "23c90f07-5809-4283-c8f9-e74ee7a3bc87"
      },
      "outputs": [
        {
          "data": {
            "text/plain": [
              "<matplotlib.legend.Legend at 0x7fd97db85890>"
            ]
          },
          "execution_count": 33,
          "metadata": {},
          "output_type": "execute_result"
        },
        {
          "data": {
            "image/png": "[encoded data removed]",
            "text/plain": [
              "<Figure size 432x288 with 1 Axes>"
            ]
          },
          "metadata": {
            "needs_background": "light"
          },
          "output_type": "display_data"
        }
      ],
      "source": [
        "true, = plt.plot(test_data)\n",
        "pred, = plt.plot(preds)\n",
        "plt.legend([true, pred], ['Real', 'Prediction'])"
      ]
    }
  ],
  "metadata": {
    "colab": {
      "collapsed_sections": [],
      "provenance": []
    },
    "kernelspec": {
      "display_name": "Python 3",
      "name": "python3"
    },
    "language_info": {
      "name": "python"
    }
  },
  "nbformat": 4,
  "nbformat_minor": 0
}
